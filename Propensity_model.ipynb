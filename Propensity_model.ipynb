{
 "cells": [
  {
   "cell_type": "markdown",
   "metadata": {},
   "source": [
    "#### Upgrade Propensity Model\n",
    "\n",
    "##### Problem Statement:\n",
    "\n",
    "In this task, we ask you to do an analysis to predict what customers will be most likely to upgrade\n",
    "We provide a small sample of data you build the propensity model with.\n"
   ]
  },
  {
   "cell_type": "code",
   "execution_count": 271,
   "metadata": {},
   "outputs": [],
   "source": [
    "# importing the required packages\n",
    "import pandas as pd\n",
    "import numpy as np\n",
    "import matplotlib.pyplot as plt\n",
    "import seaborn as sns\n",
    "from collections import Counter\n",
    "\n",
    "import warnings\n",
    "warnings.filterwarnings('ignore')\n"
   ]
  },
  {
   "cell_type": "markdown",
   "metadata": {},
   "source": [
    "##### Data Exploration"
   ]
  },
  {
   "cell_type": "code",
   "execution_count": 272,
   "metadata": {},
   "outputs": [],
   "source": [
    "# Reading the two data sets provided for the analysis\n",
    "\n",
    "df_data = pd.read_excel(\"DATA.xlsx\",engine='openpyxl')\n",
    "df_upgrade = pd.read_excel(\"UPGRADES.xlsx\",engine='openpyxl')"
   ]
  },
  {
   "cell_type": "code",
   "execution_count": 273,
   "metadata": {},
   "outputs": [
    {
     "data": {
      "text/html": [
       "<div>\n",
       "<style scoped>\n",
       "    .dataframe tbody tr th:only-of-type {\n",
       "        vertical-align: middle;\n",
       "    }\n",
       "\n",
       "    .dataframe tbody tr th {\n",
       "        vertical-align: top;\n",
       "    }\n",
       "\n",
       "    .dataframe thead th {\n",
       "        text-align: right;\n",
       "    }\n",
       "</style>\n",
       "<table border=\"1\" class=\"dataframe\">\n",
       "  <thead>\n",
       "    <tr style=\"text-align: right;\">\n",
       "      <th></th>\n",
       "      <th>SUBSCRIPTION_KEY</th>\n",
       "      <th>AVERAGE_SPEND</th>\n",
       "      <th>VOICE_OFFNET_CNT_L3M</th>\n",
       "      <th>VOICE_OFFNET_DUR_L3M</th>\n",
       "      <th>VOICE_OUTBOUND_ROAM_CNT_L3M</th>\n",
       "      <th>SMS_OFFNET_CNT_L3M</th>\n",
       "      <th>SMS_OUTBOUND_ROAM_CNT_L3M</th>\n",
       "      <th>DATA_CNT_L3M</th>\n",
       "      <th>DATA_VOLUME_L3M</th>\n",
       "      <th>NUM_OF_UPGRADES</th>\n",
       "      <th>HANDSET_FIRST_DATE</th>\n",
       "      <th>HANDSET_LATEST_DATE</th>\n",
       "      <th>LOYALTY_FLAG</th>\n",
       "      <th>SEGMENT</th>\n",
       "      <th>TOPUP_VALUE_L3M</th>\n",
       "      <th>TOPUP_CNT_L3M</th>\n",
       "      <th>CALLS_CARE_CNTS_L6M</th>\n",
       "      <th>AUTO_TOPUP</th>\n",
       "    </tr>\n",
       "  </thead>\n",
       "  <tbody>\n",
       "    <tr>\n",
       "      <th>0</th>\n",
       "      <td>462713</td>\n",
       "      <td>2.71</td>\n",
       "      <td>6</td>\n",
       "      <td>283</td>\n",
       "      <td>0.0</td>\n",
       "      <td>2</td>\n",
       "      <td>0.0</td>\n",
       "      <td>0.0</td>\n",
       "      <td>0.0</td>\n",
       "      <td>2.0</td>\n",
       "      <td>2015-09-26</td>\n",
       "      <td>2016-01-07</td>\n",
       "      <td>No</td>\n",
       "      <td>Segment3</td>\n",
       "      <td>8.1301</td>\n",
       "      <td>1.0</td>\n",
       "      <td>0.0</td>\n",
       "      <td>N</td>\n",
       "    </tr>\n",
       "    <tr>\n",
       "      <th>1</th>\n",
       "      <td>272924</td>\n",
       "      <td>16.26</td>\n",
       "      <td>3</td>\n",
       "      <td>34</td>\n",
       "      <td>1.0</td>\n",
       "      <td>13</td>\n",
       "      <td>9.0</td>\n",
       "      <td>0.0</td>\n",
       "      <td>0.0</td>\n",
       "      <td>0.0</td>\n",
       "      <td>2015-07-24</td>\n",
       "      <td>2016-01-07</td>\n",
       "      <td>Yes</td>\n",
       "      <td>Segment4</td>\n",
       "      <td>48.7806</td>\n",
       "      <td>3.0</td>\n",
       "      <td>1.0</td>\n",
       "      <td>N</td>\n",
       "    </tr>\n",
       "    <tr>\n",
       "      <th>2</th>\n",
       "      <td>319500</td>\n",
       "      <td>5.42</td>\n",
       "      <td>15</td>\n",
       "      <td>2,477</td>\n",
       "      <td>0.0</td>\n",
       "      <td>36</td>\n",
       "      <td>0.0</td>\n",
       "      <td>0.0</td>\n",
       "      <td>0.0</td>\n",
       "      <td>0.0</td>\n",
       "      <td>2012-09-04</td>\n",
       "      <td>2016-01-07</td>\n",
       "      <td>No</td>\n",
       "      <td>Segment2</td>\n",
       "      <td>16.2602</td>\n",
       "      <td>1.0</td>\n",
       "      <td>0.0</td>\n",
       "      <td>N</td>\n",
       "    </tr>\n",
       "  </tbody>\n",
       "</table>\n",
       "</div>"
      ],
      "text/plain": [
       "   SUBSCRIPTION_KEY  AVERAGE_SPEND  VOICE_OFFNET_CNT_L3M  \\\n",
       "0            462713           2.71                     6   \n",
       "1            272924          16.26                     3   \n",
       "2            319500           5.42                    15   \n",
       "\n",
       "                        VOICE_OFFNET_DUR_L3M  VOICE_OUTBOUND_ROAM_CNT_L3M  \\\n",
       "0                                        283                          0.0   \n",
       "1                                         34                          1.0   \n",
       "2                                      2,477                          0.0   \n",
       "\n",
       "                          SMS_OFFNET_CNT_L3M  SMS_OUTBOUND_ROAM_CNT_L3M  \\\n",
       "0                                          2                        0.0   \n",
       "1                                         13                        9.0   \n",
       "2                                         36                        0.0   \n",
       "\n",
       "   DATA_CNT_L3M  DATA_VOLUME_L3M  NUM_OF_UPGRADES HANDSET_FIRST_DATE  \\\n",
       "0           0.0              0.0              2.0         2015-09-26   \n",
       "1           0.0              0.0              0.0         2015-07-24   \n",
       "2           0.0              0.0              0.0         2012-09-04   \n",
       "\n",
       "  HANDSET_LATEST_DATE LOYALTY_FLAG   SEGMENT  TOPUP_VALUE_L3M  TOPUP_CNT_L3M  \\\n",
       "0          2016-01-07           No  Segment3           8.1301            1.0   \n",
       "1          2016-01-07          Yes  Segment4          48.7806            3.0   \n",
       "2          2016-01-07           No  Segment2          16.2602            1.0   \n",
       "\n",
       "   CALLS_CARE_CNTS_L6M AUTO_TOPUP  \n",
       "0                  0.0          N  \n",
       "1                  1.0          N  \n",
       "2                  0.0          N  "
      ]
     },
     "execution_count": 273,
     "metadata": {},
     "output_type": "execute_result"
    }
   ],
   "source": [
    "df_data.head(3)\n"
   ]
  },
  {
   "cell_type": "code",
   "execution_count": 274,
   "metadata": {},
   "outputs": [
    {
     "data": {
      "text/html": [
       "<div>\n",
       "<style scoped>\n",
       "    .dataframe tbody tr th:only-of-type {\n",
       "        vertical-align: middle;\n",
       "    }\n",
       "\n",
       "    .dataframe tbody tr th {\n",
       "        vertical-align: top;\n",
       "    }\n",
       "\n",
       "    .dataframe thead th {\n",
       "        text-align: right;\n",
       "    }\n",
       "</style>\n",
       "<table border=\"1\" class=\"dataframe\">\n",
       "  <thead>\n",
       "    <tr style=\"text-align: right;\">\n",
       "      <th></th>\n",
       "      <th>SUBSCRIPTION_KEY</th>\n",
       "      <th>UPGRADE_FLAG</th>\n",
       "    </tr>\n",
       "  </thead>\n",
       "  <tbody>\n",
       "    <tr>\n",
       "      <th>0</th>\n",
       "      <td>462713</td>\n",
       "      <td>NO</td>\n",
       "    </tr>\n",
       "    <tr>\n",
       "      <th>1</th>\n",
       "      <td>272924</td>\n",
       "      <td>NO</td>\n",
       "    </tr>\n",
       "    <tr>\n",
       "      <th>2</th>\n",
       "      <td>319500</td>\n",
       "      <td>NO</td>\n",
       "    </tr>\n",
       "  </tbody>\n",
       "</table>\n",
       "</div>"
      ],
      "text/plain": [
       "   SUBSCRIPTION_KEY UPGRADE_FLAG\n",
       "0            462713           NO\n",
       "1            272924           NO\n",
       "2            319500           NO"
      ]
     },
     "execution_count": 274,
     "metadata": {},
     "output_type": "execute_result"
    }
   ],
   "source": [
    "df_upgrade.head(3)"
   ]
  },
  {
   "cell_type": "code",
   "execution_count": 275,
   "metadata": {},
   "outputs": [
    {
     "name": "stdout",
     "output_type": "stream",
     "text": [
      "shape of data data set is:  (10350, 18)\n",
      "shape of upgarde data set is:  (10350, 2)\n"
     ]
    }
   ],
   "source": [
    "print(\"shape of data data set is: \",df_data.shape)\n",
    "print(\"shape of upgarde data set is: \",df_upgrade.shape)"
   ]
  },
  {
   "cell_type": "code",
   "execution_count": 276,
   "metadata": {},
   "outputs": [],
   "source": [
    "df = pd.merge(df_data, df_upgrade, how=\"left\", on=[\"SUBSCRIPTION_KEY\"])"
   ]
  },
  {
   "cell_type": "code",
   "execution_count": 277,
   "metadata": {},
   "outputs": [
    {
     "name": "stdout",
     "output_type": "stream",
     "text": [
      "Shape of merged data set is:  (10350, 19)\n"
     ]
    }
   ],
   "source": [
    "print(\"Shape of merged data set is: \",df.shape)"
   ]
  },
  {
   "cell_type": "code",
   "execution_count": 278,
   "metadata": {},
   "outputs": [
    {
     "data": {
      "text/html": [
       "<div>\n",
       "<style scoped>\n",
       "    .dataframe tbody tr th:only-of-type {\n",
       "        vertical-align: middle;\n",
       "    }\n",
       "\n",
       "    .dataframe tbody tr th {\n",
       "        vertical-align: top;\n",
       "    }\n",
       "\n",
       "    .dataframe thead th {\n",
       "        text-align: right;\n",
       "    }\n",
       "</style>\n",
       "<table border=\"1\" class=\"dataframe\">\n",
       "  <thead>\n",
       "    <tr style=\"text-align: right;\">\n",
       "      <th></th>\n",
       "      <th>SUBSCRIPTION_KEY</th>\n",
       "      <th>AVERAGE_SPEND</th>\n",
       "      <th>VOICE_OFFNET_CNT_L3M</th>\n",
       "      <th>VOICE_OFFNET_DUR_L3M</th>\n",
       "      <th>VOICE_OUTBOUND_ROAM_CNT_L3M</th>\n",
       "      <th>SMS_OFFNET_CNT_L3M</th>\n",
       "      <th>SMS_OUTBOUND_ROAM_CNT_L3M</th>\n",
       "      <th>DATA_CNT_L3M</th>\n",
       "      <th>DATA_VOLUME_L3M</th>\n",
       "      <th>NUM_OF_UPGRADES</th>\n",
       "      <th>HANDSET_FIRST_DATE</th>\n",
       "      <th>HANDSET_LATEST_DATE</th>\n",
       "      <th>LOYALTY_FLAG</th>\n",
       "      <th>SEGMENT</th>\n",
       "      <th>TOPUP_VALUE_L3M</th>\n",
       "      <th>TOPUP_CNT_L3M</th>\n",
       "      <th>CALLS_CARE_CNTS_L6M</th>\n",
       "      <th>AUTO_TOPUP</th>\n",
       "      <th>UPGRADE_FLAG</th>\n",
       "    </tr>\n",
       "  </thead>\n",
       "  <tbody>\n",
       "    <tr>\n",
       "      <th>0</th>\n",
       "      <td>462713</td>\n",
       "      <td>2.71</td>\n",
       "      <td>6</td>\n",
       "      <td>283</td>\n",
       "      <td>0.0</td>\n",
       "      <td>2</td>\n",
       "      <td>0.0</td>\n",
       "      <td>0.0</td>\n",
       "      <td>0.0</td>\n",
       "      <td>2.0</td>\n",
       "      <td>2015-09-26</td>\n",
       "      <td>2016-01-07</td>\n",
       "      <td>No</td>\n",
       "      <td>Segment3</td>\n",
       "      <td>8.1301</td>\n",
       "      <td>1.0</td>\n",
       "      <td>0.0</td>\n",
       "      <td>N</td>\n",
       "      <td>NO</td>\n",
       "    </tr>\n",
       "    <tr>\n",
       "      <th>1</th>\n",
       "      <td>272924</td>\n",
       "      <td>16.26</td>\n",
       "      <td>3</td>\n",
       "      <td>34</td>\n",
       "      <td>1.0</td>\n",
       "      <td>13</td>\n",
       "      <td>9.0</td>\n",
       "      <td>0.0</td>\n",
       "      <td>0.0</td>\n",
       "      <td>0.0</td>\n",
       "      <td>2015-07-24</td>\n",
       "      <td>2016-01-07</td>\n",
       "      <td>Yes</td>\n",
       "      <td>Segment4</td>\n",
       "      <td>48.7806</td>\n",
       "      <td>3.0</td>\n",
       "      <td>1.0</td>\n",
       "      <td>N</td>\n",
       "      <td>NO</td>\n",
       "    </tr>\n",
       "    <tr>\n",
       "      <th>2</th>\n",
       "      <td>319500</td>\n",
       "      <td>5.42</td>\n",
       "      <td>15</td>\n",
       "      <td>2,477</td>\n",
       "      <td>0.0</td>\n",
       "      <td>36</td>\n",
       "      <td>0.0</td>\n",
       "      <td>0.0</td>\n",
       "      <td>0.0</td>\n",
       "      <td>0.0</td>\n",
       "      <td>2012-09-04</td>\n",
       "      <td>2016-01-07</td>\n",
       "      <td>No</td>\n",
       "      <td>Segment2</td>\n",
       "      <td>16.2602</td>\n",
       "      <td>1.0</td>\n",
       "      <td>0.0</td>\n",
       "      <td>N</td>\n",
       "      <td>NO</td>\n",
       "    </tr>\n",
       "  </tbody>\n",
       "</table>\n",
       "</div>"
      ],
      "text/plain": [
       "   SUBSCRIPTION_KEY  AVERAGE_SPEND  VOICE_OFFNET_CNT_L3M  \\\n",
       "0            462713           2.71                     6   \n",
       "1            272924          16.26                     3   \n",
       "2            319500           5.42                    15   \n",
       "\n",
       "                        VOICE_OFFNET_DUR_L3M  VOICE_OUTBOUND_ROAM_CNT_L3M  \\\n",
       "0                                        283                          0.0   \n",
       "1                                         34                          1.0   \n",
       "2                                      2,477                          0.0   \n",
       "\n",
       "                          SMS_OFFNET_CNT_L3M  SMS_OUTBOUND_ROAM_CNT_L3M  \\\n",
       "0                                          2                        0.0   \n",
       "1                                         13                        9.0   \n",
       "2                                         36                        0.0   \n",
       "\n",
       "   DATA_CNT_L3M  DATA_VOLUME_L3M  NUM_OF_UPGRADES HANDSET_FIRST_DATE  \\\n",
       "0           0.0              0.0              2.0         2015-09-26   \n",
       "1           0.0              0.0              0.0         2015-07-24   \n",
       "2           0.0              0.0              0.0         2012-09-04   \n",
       "\n",
       "  HANDSET_LATEST_DATE LOYALTY_FLAG   SEGMENT  TOPUP_VALUE_L3M  TOPUP_CNT_L3M  \\\n",
       "0          2016-01-07           No  Segment3           8.1301            1.0   \n",
       "1          2016-01-07          Yes  Segment4          48.7806            3.0   \n",
       "2          2016-01-07           No  Segment2          16.2602            1.0   \n",
       "\n",
       "   CALLS_CARE_CNTS_L6M AUTO_TOPUP UPGRADE_FLAG  \n",
       "0                  0.0          N           NO  \n",
       "1                  1.0          N           NO  \n",
       "2                  0.0          N           NO  "
      ]
     },
     "execution_count": 278,
     "metadata": {},
     "output_type": "execute_result"
    }
   ],
   "source": [
    "df.head(3)"
   ]
  },
  {
   "cell_type": "code",
   "execution_count": 279,
   "metadata": {},
   "outputs": [
    {
     "name": "stdout",
     "output_type": "stream",
     "text": [
      "<class 'pandas.core.frame.DataFrame'>\n",
      "Int64Index: 10350 entries, 0 to 10349\n",
      "Data columns (total 19 columns):\n",
      " #   Column                       Non-Null Count  Dtype         \n",
      "---  ------                       --------------  -----         \n",
      " 0   SUBSCRIPTION_KEY             10350 non-null  int64         \n",
      " 1   AVERAGE_SPEND                10300 non-null  float64       \n",
      " 2   VOICE_OFFNET_CNT_L3M         10350 non-null  int64         \n",
      " 3   VOICE_OFFNET_DUR_L3M         10350 non-null  object        \n",
      " 4   VOICE_OUTBOUND_ROAM_CNT_L3M  10300 non-null  float64       \n",
      " 5   SMS_OFFNET_CNT_L3M           10350 non-null  object        \n",
      " 6   SMS_OUTBOUND_ROAM_CNT_L3M    10300 non-null  float64       \n",
      " 7   DATA_CNT_L3M                 10300 non-null  float64       \n",
      " 8   DATA_VOLUME_L3M              10300 non-null  float64       \n",
      " 9   NUM_OF_UPGRADES              10300 non-null  float64       \n",
      " 10  HANDSET_FIRST_DATE           10350 non-null  datetime64[ns]\n",
      " 11  HANDSET_LATEST_DATE          10350 non-null  datetime64[ns]\n",
      " 12  LOYALTY_FLAG                 10300 non-null  object        \n",
      " 13  SEGMENT                      10300 non-null  object        \n",
      " 14  TOPUP_VALUE_L3M              10300 non-null  float64       \n",
      " 15  TOPUP_CNT_L3M                10300 non-null  float64       \n",
      " 16  CALLS_CARE_CNTS_L6M          10300 non-null  float64       \n",
      " 17  AUTO_TOPUP                   10300 non-null  object        \n",
      " 18  UPGRADE_FLAG                 10350 non-null  object        \n",
      "dtypes: datetime64[ns](2), float64(9), int64(2), object(6)\n",
      "memory usage: 1.6+ MB\n"
     ]
    }
   ],
   "source": [
    "df.info()"
   ]
  },
  {
   "cell_type": "code",
   "execution_count": 280,
   "metadata": {},
   "outputs": [
    {
     "data": {
      "text/plain": [
       "SUBSCRIPTION_KEY                0\n",
       "AVERAGE_SPEND                  50\n",
       "VOICE_OFFNET_CNT_L3M            0\n",
       "VOICE_OFFNET_DUR_L3M            0\n",
       "VOICE_OUTBOUND_ROAM_CNT_L3M    50\n",
       "SMS_OFFNET_CNT_L3M              0\n",
       "SMS_OUTBOUND_ROAM_CNT_L3M      50\n",
       "DATA_CNT_L3M                   50\n",
       "DATA_VOLUME_L3M                50\n",
       "NUM_OF_UPGRADES                50\n",
       "HANDSET_FIRST_DATE              0\n",
       "HANDSET_LATEST_DATE             0\n",
       "LOYALTY_FLAG                   50\n",
       "SEGMENT                        50\n",
       "TOPUP_VALUE_L3M                50\n",
       "TOPUP_CNT_L3M                  50\n",
       "CALLS_CARE_CNTS_L6M            50\n",
       "AUTO_TOPUP                     50\n",
       "UPGRADE_FLAG                    0\n",
       "dtype: int64"
      ]
     },
     "execution_count": 280,
     "metadata": {},
     "output_type": "execute_result"
    }
   ],
   "source": [
    "df.isnull().sum()"
   ]
  },
  {
   "cell_type": "code",
   "execution_count": 281,
   "metadata": {},
   "outputs": [
    {
     "name": "stdout",
     "output_type": "stream",
     "text": [
      "Total number of duplicate values in the data set is/are: 0\n"
     ]
    }
   ],
   "source": [
    "# checking for duplicates in the data set\n",
    "print('Total number of duplicate values in the data set is/are: {}'.format(df.duplicated().sum()))"
   ]
  },
  {
   "cell_type": "code",
   "execution_count": 282,
   "metadata": {},
   "outputs": [
    {
     "data": {
      "text/plain": [
       "NO     10000\n",
       "YES      350\n",
       "Name: UPGRADE_FLAG, dtype: int64"
      ]
     },
     "execution_count": 282,
     "metadata": {},
     "output_type": "execute_result"
    }
   ],
   "source": [
    "#checking for imbalance in the data set\n",
    "df['UPGRADE_FLAG'].value_counts()"
   ]
  },
  {
   "cell_type": "markdown",
   "metadata": {},
   "source": [
    "##### Data Cleaning"
   ]
  },
  {
   "cell_type": "code",
   "execution_count": 283,
   "metadata": {},
   "outputs": [],
   "source": [
    "# # SMS_OFFNET_CNT_L3M , VOICE_OFFNET_DUR_L3M , HANDSET_FIRST_DATE , HANDSET_LATEST_DATE , LOYALTY_FLAG , \n",
    "# # SEGMENT , AUTO_TOPUP , UPGRADE_FLAG\n",
    "\n",
    "# df.HANDSET_FIRST_DATE.unique()"
   ]
  },
  {
   "cell_type": "code",
   "execution_count": 284,
   "metadata": {},
   "outputs": [],
   "source": [
    "# df.AUTO_TOPUP.value_counts()"
   ]
  },
  {
   "cell_type": "code",
   "execution_count": 285,
   "metadata": {},
   "outputs": [],
   "source": [
    "# removing the white spaces before the numbers for column SMS_OFFNET_CNT_L3M\n",
    "df.SMS_OFFNET_CNT_L3M = df.SMS_OFFNET_CNT_L3M.str.strip()"
   ]
  },
  {
   "cell_type": "code",
   "execution_count": 286,
   "metadata": {},
   "outputs": [],
   "source": [
    "# converting the type of the columns from object to int\n",
    "df.SMS_OFFNET_CNT_L3M = df.SMS_OFFNET_CNT_L3M.str.replace(\",\",\"\",regex=True) # removed , from the numbers that is 2,123 will be 2123 now\n",
    "df.SMS_OFFNET_CNT_L3M = df.SMS_OFFNET_CNT_L3M.apply(pd.to_numeric) # converting it to numeric field\n",
    "# df.SMS_OFFNET_CNT_L3M.unique()"
   ]
  },
  {
   "cell_type": "code",
   "execution_count": 287,
   "metadata": {},
   "outputs": [],
   "source": [
    "# removing the white spaces before the numbers for column VOICE_OFFNET_DUR_L3M\n",
    "df.VOICE_OFFNET_DUR_L3M = df.VOICE_OFFNET_DUR_L3M.str.strip()"
   ]
  },
  {
   "cell_type": "code",
   "execution_count": 288,
   "metadata": {},
   "outputs": [],
   "source": [
    "# converting the type of the columns from object to int\n",
    "df.VOICE_OFFNET_DUR_L3M = df.VOICE_OFFNET_DUR_L3M.str.replace(\",\",\"\",regex=True) # removed , from the numbers that is 2,123 will be 2123 now\n",
    "df.VOICE_OFFNET_DUR_L3M = df.VOICE_OFFNET_DUR_L3M.apply(pd.to_numeric) # converting it to numeric field\n",
    "# df.VOICE_OFFNET_DUR_L3M.unique()"
   ]
  },
  {
   "cell_type": "code",
   "execution_count": 289,
   "metadata": {},
   "outputs": [],
   "source": [
    "# replacing nan values of LOYALTY_FLAG field with No\n",
    "df.LOYALTY_FLAG = df.LOYALTY_FLAG.replace(np.nan,\"No\",regex=True)"
   ]
  },
  {
   "cell_type": "code",
   "execution_count": 290,
   "metadata": {},
   "outputs": [],
   "source": [
    "# converting yes and no to 0 and 1\n",
    "df.LOYALTY_FLAG = df.LOYALTY_FLAG.replace({'No':0, 'Yes':1})"
   ]
  },
  {
   "cell_type": "code",
   "execution_count": 291,
   "metadata": {},
   "outputs": [],
   "source": [
    "# replacing nan values of SEGMENT field with UNKNOWN\n",
    "df.SEGMENT = df.SEGMENT.replace(np.nan,\"UNKNOWN\",regex=True)"
   ]
  },
  {
   "cell_type": "code",
   "execution_count": 292,
   "metadata": {},
   "outputs": [],
   "source": [
    "# converting segments to numeric values\n",
    "df.SEGMENT = df.SEGMENT.replace({'Segment1':1, 'Segment2':2,'Segment3':3,'Segment4':4,'UNKNOWN':5})"
   ]
  },
  {
   "cell_type": "code",
   "execution_count": 293,
   "metadata": {},
   "outputs": [],
   "source": [
    "# replacing nan values of AUTO_TOPUP field with N\n",
    "df.AUTO_TOPUP = df.AUTO_TOPUP.replace(np.nan,\"N\",regex=True)"
   ]
  },
  {
   "cell_type": "code",
   "execution_count": 294,
   "metadata": {},
   "outputs": [],
   "source": [
    "# converting yes and no to 0 and 1\n",
    "df.AUTO_TOPUP = df.AUTO_TOPUP.replace({'N':0, 'Y':1})"
   ]
  },
  {
   "cell_type": "code",
   "execution_count": 295,
   "metadata": {},
   "outputs": [],
   "source": [
    "#converting No and yes to 0 and 1\n",
    "df.UPGRADE_FLAG = df.UPGRADE_FLAG.replace({'NO':0, 'YES':1})"
   ]
  },
  {
   "cell_type": "code",
   "execution_count": 296,
   "metadata": {},
   "outputs": [],
   "source": [
    "# droping two columns since it has only one value\n",
    "df.drop(['DATA_CNT_L3M','DATA_VOLUME_L3M'],inplace = True, axis = 1)"
   ]
  },
  {
   "cell_type": "code",
   "execution_count": 297,
   "metadata": {},
   "outputs": [],
   "source": [
    "# mode imputation in some column for null values\n",
    "col_mode = ['NUM_OF_UPGRADES','TOPUP_CNT_L3M','CALLS_CARE_CNTS_L6M']\n",
    "\n",
    "for i in col_mode:\n",
    "    df[i]=  df[i].fillna((df[i].mode()[0]))"
   ]
  },
  {
   "cell_type": "code",
   "execution_count": 298,
   "metadata": {},
   "outputs": [],
   "source": [
    "# mean imputation in some column for null values\n",
    "col_mean = ['AVERAGE_SPEND','VOICE_OUTBOUND_ROAM_CNT_L3M','SMS_OUTBOUND_ROAM_CNT_L3M','TOPUP_VALUE_L3M']\n",
    "\n",
    "for i in col_mean:\n",
    "    df[i].fillna((df[i].mean()),inplace = True)"
   ]
  },
  {
   "cell_type": "code",
   "execution_count": 299,
   "metadata": {},
   "outputs": [
    {
     "data": {
      "text/plain": [
       "SUBSCRIPTION_KEY                        int64\n",
       "AVERAGE_SPEND                         float64\n",
       "VOICE_OFFNET_CNT_L3M                    int64\n",
       "VOICE_OFFNET_DUR_L3M                    int64\n",
       "VOICE_OUTBOUND_ROAM_CNT_L3M           float64\n",
       "SMS_OFFNET_CNT_L3M                      int64\n",
       "SMS_OUTBOUND_ROAM_CNT_L3M             float64\n",
       "NUM_OF_UPGRADES                       float64\n",
       "HANDSET_FIRST_DATE             datetime64[ns]\n",
       "HANDSET_LATEST_DATE            datetime64[ns]\n",
       "LOYALTY_FLAG                            int64\n",
       "SEGMENT                                 int64\n",
       "TOPUP_VALUE_L3M                       float64\n",
       "TOPUP_CNT_L3M                         float64\n",
       "CALLS_CARE_CNTS_L6M                   float64\n",
       "AUTO_TOPUP                              int64\n",
       "UPGRADE_FLAG                            int64\n",
       "dtype: object"
      ]
     },
     "execution_count": 299,
     "metadata": {},
     "output_type": "execute_result"
    }
   ],
   "source": [
    "df.dtypes"
   ]
  },
  {
   "cell_type": "code",
   "execution_count": 300,
   "metadata": {},
   "outputs": [
    {
     "data": {
      "text/plain": [
       "SUBSCRIPTION_KEY               0\n",
       "AVERAGE_SPEND                  0\n",
       "VOICE_OFFNET_CNT_L3M           0\n",
       "VOICE_OFFNET_DUR_L3M           0\n",
       "VOICE_OUTBOUND_ROAM_CNT_L3M    0\n",
       "SMS_OFFNET_CNT_L3M             0\n",
       "SMS_OUTBOUND_ROAM_CNT_L3M      0\n",
       "NUM_OF_UPGRADES                0\n",
       "HANDSET_FIRST_DATE             0\n",
       "HANDSET_LATEST_DATE            0\n",
       "LOYALTY_FLAG                   0\n",
       "SEGMENT                        0\n",
       "TOPUP_VALUE_L3M                0\n",
       "TOPUP_CNT_L3M                  0\n",
       "CALLS_CARE_CNTS_L6M            0\n",
       "AUTO_TOPUP                     0\n",
       "UPGRADE_FLAG                   0\n",
       "dtype: int64"
      ]
     },
     "execution_count": 300,
     "metadata": {},
     "output_type": "execute_result"
    }
   ],
   "source": [
    "df.isnull().sum()"
   ]
  },
  {
   "cell_type": "code",
   "execution_count": 301,
   "metadata": {},
   "outputs": [
    {
     "data": {
      "text/plain": [
       "(10350, 17)"
      ]
     },
     "execution_count": 301,
     "metadata": {},
     "output_type": "execute_result"
    }
   ],
   "source": [
    "df.shape"
   ]
  },
  {
   "cell_type": "markdown",
   "metadata": {},
   "source": [
    "##### Feature Engineering"
   ]
  },
  {
   "cell_type": "code",
   "execution_count": 302,
   "metadata": {},
   "outputs": [],
   "source": [
    "df['Number_of_Days'] = (df['HANDSET_LATEST_DATE'] - df['HANDSET_FIRST_DATE']).dt.days"
   ]
  },
  {
   "cell_type": "code",
   "execution_count": 303,
   "metadata": {},
   "outputs": [],
   "source": [
    "df.drop(['HANDSET_LATEST_DATE','HANDSET_FIRST_DATE'],inplace =True,axis = 1)"
   ]
  },
  {
   "cell_type": "code",
   "execution_count": 304,
   "metadata": {},
   "outputs": [
    {
     "data": {
      "text/html": [
       "<div>\n",
       "<style scoped>\n",
       "    .dataframe tbody tr th:only-of-type {\n",
       "        vertical-align: middle;\n",
       "    }\n",
       "\n",
       "    .dataframe tbody tr th {\n",
       "        vertical-align: top;\n",
       "    }\n",
       "\n",
       "    .dataframe thead th {\n",
       "        text-align: right;\n",
       "    }\n",
       "</style>\n",
       "<table border=\"1\" class=\"dataframe\">\n",
       "  <thead>\n",
       "    <tr style=\"text-align: right;\">\n",
       "      <th></th>\n",
       "      <th>count</th>\n",
       "      <th>mean</th>\n",
       "      <th>std</th>\n",
       "      <th>min</th>\n",
       "      <th>25%</th>\n",
       "      <th>50%</th>\n",
       "      <th>75%</th>\n",
       "      <th>max</th>\n",
       "    </tr>\n",
       "  </thead>\n",
       "  <tbody>\n",
       "    <tr>\n",
       "      <th>SUBSCRIPTION_KEY</th>\n",
       "      <td>10350.0</td>\n",
       "      <td>238842.335362</td>\n",
       "      <td>137379.999580</td>\n",
       "      <td>4.0000</td>\n",
       "      <td>120194.2500</td>\n",
       "      <td>238182.0000</td>\n",
       "      <td>357392.2500</td>\n",
       "      <td>477531.0000</td>\n",
       "    </tr>\n",
       "    <tr>\n",
       "      <th>AVERAGE_SPEND</th>\n",
       "      <td>10350.0</td>\n",
       "      <td>10.210563</td>\n",
       "      <td>5.464593</td>\n",
       "      <td>1.3500</td>\n",
       "      <td>5.4200</td>\n",
       "      <td>10.8400</td>\n",
       "      <td>16.2600</td>\n",
       "      <td>46.0700</td>\n",
       "    </tr>\n",
       "    <tr>\n",
       "      <th>VOICE_OFFNET_CNT_L3M</th>\n",
       "      <td>10350.0</td>\n",
       "      <td>14.447729</td>\n",
       "      <td>21.641523</td>\n",
       "      <td>0.0000</td>\n",
       "      <td>0.0000</td>\n",
       "      <td>5.0000</td>\n",
       "      <td>19.0000</td>\n",
       "      <td>204.0000</td>\n",
       "    </tr>\n",
       "    <tr>\n",
       "      <th>VOICE_OFFNET_DUR_L3M</th>\n",
       "      <td>10350.0</td>\n",
       "      <td>896.627343</td>\n",
       "      <td>1478.099922</td>\n",
       "      <td>0.0000</td>\n",
       "      <td>0.0000</td>\n",
       "      <td>228.5000</td>\n",
       "      <td>1161.0000</td>\n",
       "      <td>18873.0000</td>\n",
       "    </tr>\n",
       "    <tr>\n",
       "      <th>VOICE_OUTBOUND_ROAM_CNT_L3M</th>\n",
       "      <td>10350.0</td>\n",
       "      <td>1.683107</td>\n",
       "      <td>7.258700</td>\n",
       "      <td>0.0000</td>\n",
       "      <td>0.0000</td>\n",
       "      <td>0.0000</td>\n",
       "      <td>0.0000</td>\n",
       "      <td>380.0000</td>\n",
       "    </tr>\n",
       "    <tr>\n",
       "      <th>SMS_OFFNET_CNT_L3M</th>\n",
       "      <td>10350.0</td>\n",
       "      <td>63.911014</td>\n",
       "      <td>205.481564</td>\n",
       "      <td>0.0000</td>\n",
       "      <td>0.0000</td>\n",
       "      <td>9.0000</td>\n",
       "      <td>50.0000</td>\n",
       "      <td>6538.0000</td>\n",
       "    </tr>\n",
       "    <tr>\n",
       "      <th>SMS_OUTBOUND_ROAM_CNT_L3M</th>\n",
       "      <td>10350.0</td>\n",
       "      <td>2.631942</td>\n",
       "      <td>16.101937</td>\n",
       "      <td>0.0000</td>\n",
       "      <td>0.0000</td>\n",
       "      <td>0.0000</td>\n",
       "      <td>0.0000</td>\n",
       "      <td>681.0000</td>\n",
       "    </tr>\n",
       "    <tr>\n",
       "      <th>NUM_OF_UPGRADES</th>\n",
       "      <td>10350.0</td>\n",
       "      <td>0.071594</td>\n",
       "      <td>0.290266</td>\n",
       "      <td>0.0000</td>\n",
       "      <td>0.0000</td>\n",
       "      <td>0.0000</td>\n",
       "      <td>0.0000</td>\n",
       "      <td>3.0000</td>\n",
       "    </tr>\n",
       "    <tr>\n",
       "      <th>LOYALTY_FLAG</th>\n",
       "      <td>10350.0</td>\n",
       "      <td>0.323478</td>\n",
       "      <td>0.467826</td>\n",
       "      <td>0.0000</td>\n",
       "      <td>0.0000</td>\n",
       "      <td>0.0000</td>\n",
       "      <td>1.0000</td>\n",
       "      <td>1.0000</td>\n",
       "    </tr>\n",
       "    <tr>\n",
       "      <th>SEGMENT</th>\n",
       "      <td>10350.0</td>\n",
       "      <td>2.573237</td>\n",
       "      <td>1.014628</td>\n",
       "      <td>1.0000</td>\n",
       "      <td>2.0000</td>\n",
       "      <td>3.0000</td>\n",
       "      <td>3.0000</td>\n",
       "      <td>5.0000</td>\n",
       "    </tr>\n",
       "    <tr>\n",
       "      <th>TOPUP_VALUE_L3M</th>\n",
       "      <td>10350.0</td>\n",
       "      <td>30.609399</td>\n",
       "      <td>16.468299</td>\n",
       "      <td>4.0569</td>\n",
       "      <td>16.2602</td>\n",
       "      <td>32.5204</td>\n",
       "      <td>48.7806</td>\n",
       "      <td>138.2117</td>\n",
       "    </tr>\n",
       "    <tr>\n",
       "      <th>TOPUP_CNT_L3M</th>\n",
       "      <td>10350.0</td>\n",
       "      <td>2.020000</td>\n",
       "      <td>1.050878</td>\n",
       "      <td>1.0000</td>\n",
       "      <td>1.0000</td>\n",
       "      <td>2.0000</td>\n",
       "      <td>3.0000</td>\n",
       "      <td>12.0000</td>\n",
       "    </tr>\n",
       "    <tr>\n",
       "      <th>CALLS_CARE_CNTS_L6M</th>\n",
       "      <td>10350.0</td>\n",
       "      <td>0.078647</td>\n",
       "      <td>0.429151</td>\n",
       "      <td>0.0000</td>\n",
       "      <td>0.0000</td>\n",
       "      <td>0.0000</td>\n",
       "      <td>0.0000</td>\n",
       "      <td>9.0000</td>\n",
       "    </tr>\n",
       "    <tr>\n",
       "      <th>AUTO_TOPUP</th>\n",
       "      <td>10350.0</td>\n",
       "      <td>0.015556</td>\n",
       "      <td>0.123754</td>\n",
       "      <td>0.0000</td>\n",
       "      <td>0.0000</td>\n",
       "      <td>0.0000</td>\n",
       "      <td>0.0000</td>\n",
       "      <td>1.0000</td>\n",
       "    </tr>\n",
       "    <tr>\n",
       "      <th>UPGRADE_FLAG</th>\n",
       "      <td>10350.0</td>\n",
       "      <td>0.033816</td>\n",
       "      <td>0.180765</td>\n",
       "      <td>0.0000</td>\n",
       "      <td>0.0000</td>\n",
       "      <td>0.0000</td>\n",
       "      <td>0.0000</td>\n",
       "      <td>1.0000</td>\n",
       "    </tr>\n",
       "    <tr>\n",
       "      <th>Number_of_Days</th>\n",
       "      <td>10350.0</td>\n",
       "      <td>421.781449</td>\n",
       "      <td>379.439261</td>\n",
       "      <td>-999.0000</td>\n",
       "      <td>148.0000</td>\n",
       "      <td>297.0000</td>\n",
       "      <td>619.0000</td>\n",
       "      <td>3639.0000</td>\n",
       "    </tr>\n",
       "  </tbody>\n",
       "</table>\n",
       "</div>"
      ],
      "text/plain": [
       "                               count           mean            std       min  \\\n",
       "SUBSCRIPTION_KEY             10350.0  238842.335362  137379.999580    4.0000   \n",
       "AVERAGE_SPEND                10350.0      10.210563       5.464593    1.3500   \n",
       "VOICE_OFFNET_CNT_L3M         10350.0      14.447729      21.641523    0.0000   \n",
       "VOICE_OFFNET_DUR_L3M         10350.0     896.627343    1478.099922    0.0000   \n",
       "VOICE_OUTBOUND_ROAM_CNT_L3M  10350.0       1.683107       7.258700    0.0000   \n",
       "SMS_OFFNET_CNT_L3M           10350.0      63.911014     205.481564    0.0000   \n",
       "SMS_OUTBOUND_ROAM_CNT_L3M    10350.0       2.631942      16.101937    0.0000   \n",
       "NUM_OF_UPGRADES              10350.0       0.071594       0.290266    0.0000   \n",
       "LOYALTY_FLAG                 10350.0       0.323478       0.467826    0.0000   \n",
       "SEGMENT                      10350.0       2.573237       1.014628    1.0000   \n",
       "TOPUP_VALUE_L3M              10350.0      30.609399      16.468299    4.0569   \n",
       "TOPUP_CNT_L3M                10350.0       2.020000       1.050878    1.0000   \n",
       "CALLS_CARE_CNTS_L6M          10350.0       0.078647       0.429151    0.0000   \n",
       "AUTO_TOPUP                   10350.0       0.015556       0.123754    0.0000   \n",
       "UPGRADE_FLAG                 10350.0       0.033816       0.180765    0.0000   \n",
       "Number_of_Days               10350.0     421.781449     379.439261 -999.0000   \n",
       "\n",
       "                                     25%          50%          75%  \\\n",
       "SUBSCRIPTION_KEY             120194.2500  238182.0000  357392.2500   \n",
       "AVERAGE_SPEND                     5.4200      10.8400      16.2600   \n",
       "VOICE_OFFNET_CNT_L3M              0.0000       5.0000      19.0000   \n",
       "VOICE_OFFNET_DUR_L3M              0.0000     228.5000    1161.0000   \n",
       "VOICE_OUTBOUND_ROAM_CNT_L3M       0.0000       0.0000       0.0000   \n",
       "SMS_OFFNET_CNT_L3M                0.0000       9.0000      50.0000   \n",
       "SMS_OUTBOUND_ROAM_CNT_L3M         0.0000       0.0000       0.0000   \n",
       "NUM_OF_UPGRADES                   0.0000       0.0000       0.0000   \n",
       "LOYALTY_FLAG                      0.0000       0.0000       1.0000   \n",
       "SEGMENT                           2.0000       3.0000       3.0000   \n",
       "TOPUP_VALUE_L3M                  16.2602      32.5204      48.7806   \n",
       "TOPUP_CNT_L3M                     1.0000       2.0000       3.0000   \n",
       "CALLS_CARE_CNTS_L6M               0.0000       0.0000       0.0000   \n",
       "AUTO_TOPUP                        0.0000       0.0000       0.0000   \n",
       "UPGRADE_FLAG                      0.0000       0.0000       0.0000   \n",
       "Number_of_Days                  148.0000     297.0000     619.0000   \n",
       "\n",
       "                                     max  \n",
       "SUBSCRIPTION_KEY             477531.0000  \n",
       "AVERAGE_SPEND                    46.0700  \n",
       "VOICE_OFFNET_CNT_L3M            204.0000  \n",
       "VOICE_OFFNET_DUR_L3M          18873.0000  \n",
       "VOICE_OUTBOUND_ROAM_CNT_L3M     380.0000  \n",
       "SMS_OFFNET_CNT_L3M             6538.0000  \n",
       "SMS_OUTBOUND_ROAM_CNT_L3M       681.0000  \n",
       "NUM_OF_UPGRADES                   3.0000  \n",
       "LOYALTY_FLAG                      1.0000  \n",
       "SEGMENT                           5.0000  \n",
       "TOPUP_VALUE_L3M                 138.2117  \n",
       "TOPUP_CNT_L3M                    12.0000  \n",
       "CALLS_CARE_CNTS_L6M               9.0000  \n",
       "AUTO_TOPUP                        1.0000  \n",
       "UPGRADE_FLAG                      1.0000  \n",
       "Number_of_Days                 3639.0000  "
      ]
     },
     "execution_count": 304,
     "metadata": {},
     "output_type": "execute_result"
    }
   ],
   "source": [
    "df.describe().T"
   ]
  },
  {
   "cell_type": "code",
   "execution_count": null,
   "metadata": {},
   "outputs": [],
   "source": []
  },
  {
   "cell_type": "code",
   "execution_count": null,
   "metadata": {},
   "outputs": [],
   "source": []
  },
  {
   "cell_type": "code",
   "execution_count": null,
   "metadata": {},
   "outputs": [],
   "source": []
  },
  {
   "cell_type": "code",
   "execution_count": null,
   "metadata": {},
   "outputs": [],
   "source": []
  },
  {
   "cell_type": "code",
   "execution_count": null,
   "metadata": {},
   "outputs": [],
   "source": []
  },
  {
   "cell_type": "code",
   "execution_count": null,
   "metadata": {},
   "outputs": [],
   "source": []
  },
  {
   "cell_type": "code",
   "execution_count": null,
   "metadata": {},
   "outputs": [],
   "source": []
  },
  {
   "cell_type": "code",
   "execution_count": null,
   "metadata": {},
   "outputs": [],
   "source": []
  },
  {
   "cell_type": "code",
   "execution_count": null,
   "metadata": {},
   "outputs": [],
   "source": []
  },
  {
   "cell_type": "code",
   "execution_count": null,
   "metadata": {},
   "outputs": [],
   "source": []
  },
  {
   "cell_type": "code",
   "execution_count": null,
   "metadata": {},
   "outputs": [],
   "source": []
  },
  {
   "cell_type": "code",
   "execution_count": null,
   "metadata": {},
   "outputs": [],
   "source": []
  },
  {
   "cell_type": "code",
   "execution_count": null,
   "metadata": {},
   "outputs": [],
   "source": []
  },
  {
   "cell_type": "code",
   "execution_count": null,
   "metadata": {},
   "outputs": [],
   "source": []
  },
  {
   "cell_type": "code",
   "execution_count": null,
   "metadata": {},
   "outputs": [],
   "source": []
  },
  {
   "cell_type": "code",
   "execution_count": null,
   "metadata": {},
   "outputs": [],
   "source": []
  },
  {
   "cell_type": "code",
   "execution_count": null,
   "metadata": {},
   "outputs": [],
   "source": []
  },
  {
   "cell_type": "code",
   "execution_count": null,
   "metadata": {},
   "outputs": [],
   "source": []
  },
  {
   "cell_type": "code",
   "execution_count": null,
   "metadata": {},
   "outputs": [],
   "source": []
  },
  {
   "cell_type": "code",
   "execution_count": null,
   "metadata": {},
   "outputs": [],
   "source": []
  },
  {
   "cell_type": "code",
   "execution_count": null,
   "metadata": {},
   "outputs": [],
   "source": []
  },
  {
   "cell_type": "code",
   "execution_count": null,
   "metadata": {},
   "outputs": [],
   "source": []
  },
  {
   "cell_type": "code",
   "execution_count": null,
   "metadata": {},
   "outputs": [],
   "source": []
  },
  {
   "cell_type": "code",
   "execution_count": null,
   "metadata": {},
   "outputs": [],
   "source": []
  },
  {
   "cell_type": "code",
   "execution_count": null,
   "metadata": {},
   "outputs": [],
   "source": []
  },
  {
   "cell_type": "code",
   "execution_count": null,
   "metadata": {},
   "outputs": [],
   "source": []
  },
  {
   "cell_type": "code",
   "execution_count": null,
   "metadata": {},
   "outputs": [],
   "source": []
  },
  {
   "cell_type": "code",
   "execution_count": null,
   "metadata": {},
   "outputs": [],
   "source": []
  },
  {
   "cell_type": "code",
   "execution_count": null,
   "metadata": {},
   "outputs": [],
   "source": []
  },
  {
   "cell_type": "code",
   "execution_count": null,
   "metadata": {},
   "outputs": [],
   "source": []
  },
  {
   "cell_type": "code",
   "execution_count": null,
   "metadata": {},
   "outputs": [],
   "source": []
  },
  {
   "cell_type": "code",
   "execution_count": null,
   "metadata": {},
   "outputs": [],
   "source": []
  },
  {
   "cell_type": "code",
   "execution_count": null,
   "metadata": {},
   "outputs": [],
   "source": []
  },
  {
   "cell_type": "code",
   "execution_count": null,
   "metadata": {},
   "outputs": [],
   "source": []
  },
  {
   "cell_type": "code",
   "execution_count": null,
   "metadata": {},
   "outputs": [],
   "source": []
  },
  {
   "cell_type": "code",
   "execution_count": null,
   "metadata": {},
   "outputs": [],
   "source": []
  },
  {
   "cell_type": "code",
   "execution_count": null,
   "metadata": {},
   "outputs": [],
   "source": []
  },
  {
   "cell_type": "code",
   "execution_count": null,
   "metadata": {},
   "outputs": [],
   "source": []
  },
  {
   "cell_type": "code",
   "execution_count": null,
   "metadata": {},
   "outputs": [],
   "source": []
  },
  {
   "cell_type": "code",
   "execution_count": null,
   "metadata": {},
   "outputs": [],
   "source": []
  },
  {
   "cell_type": "code",
   "execution_count": null,
   "metadata": {},
   "outputs": [],
   "source": []
  },
  {
   "cell_type": "code",
   "execution_count": null,
   "metadata": {},
   "outputs": [],
   "source": []
  },
  {
   "cell_type": "code",
   "execution_count": null,
   "metadata": {},
   "outputs": [],
   "source": []
  },
  {
   "cell_type": "code",
   "execution_count": null,
   "metadata": {},
   "outputs": [],
   "source": []
  },
  {
   "cell_type": "code",
   "execution_count": null,
   "metadata": {},
   "outputs": [],
   "source": []
  },
  {
   "cell_type": "code",
   "execution_count": null,
   "metadata": {},
   "outputs": [],
   "source": []
  },
  {
   "cell_type": "code",
   "execution_count": null,
   "metadata": {},
   "outputs": [],
   "source": []
  },
  {
   "cell_type": "code",
   "execution_count": null,
   "metadata": {},
   "outputs": [],
   "source": []
  },
  {
   "cell_type": "code",
   "execution_count": null,
   "metadata": {},
   "outputs": [],
   "source": []
  },
  {
   "cell_type": "code",
   "execution_count": null,
   "metadata": {},
   "outputs": [],
   "source": []
  },
  {
   "cell_type": "code",
   "execution_count": null,
   "metadata": {},
   "outputs": [],
   "source": []
  },
  {
   "cell_type": "code",
   "execution_count": null,
   "metadata": {},
   "outputs": [],
   "source": []
  },
  {
   "cell_type": "code",
   "execution_count": null,
   "metadata": {},
   "outputs": [],
   "source": []
  },
  {
   "cell_type": "code",
   "execution_count": null,
   "metadata": {},
   "outputs": [],
   "source": []
  },
  {
   "cell_type": "code",
   "execution_count": null,
   "metadata": {},
   "outputs": [],
   "source": []
  }
 ],
 "metadata": {
  "kernelspec": {
   "display_name": "PythonCpu",
   "language": "python",
   "name": "pythoncpu"
  },
  "language_info": {
   "codemirror_mode": {
    "name": "ipython",
    "version": 3
   },
   "file_extension": ".py",
   "mimetype": "text/x-python",
   "name": "python",
   "nbconvert_exporter": "python",
   "pygments_lexer": "ipython3",
   "version": "3.6.12"
  }
 },
 "nbformat": 4,
 "nbformat_minor": 4
}
